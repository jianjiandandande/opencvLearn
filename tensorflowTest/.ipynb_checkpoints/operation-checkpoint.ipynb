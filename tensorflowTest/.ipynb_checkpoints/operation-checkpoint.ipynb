{
 "cells": [
  {
   "cell_type": "code",
   "execution_count": 2,
   "metadata": {},
   "outputs": [],
   "source": [
    "import tensorflow as tf\n",
    "data1 = tf.constant(6)\n",
    "data2 = tf.constant(2)\n",
    "dataAdd = tf.add(data1, data2)\n",
    "dataSub = tf.subtract(data1, data2)\n",
    "dataMul = tf.multiply\\(data1, data2)\n",
    "dataDiv = tf.divide(data1, data2)\n",
    "sess = tf.Session\n",
    "with sess:\n",
    "    print(sess.run(dataAdd))\n",
    "    print(sess.run(dataSub))\n",
    "    print(sess.run(dataMul))\n",
    "    print(sess.run(dataDiv))\n",
    "    print(sess.ru)\n",
    "\n",
    "\n",
    "\n",
    "\n",
    "\n",
    "\n"
   ]
  },
  {
   "cell_type": "code",
   "execution_count": null,
   "metadata": {
    "collapsed": true
   },
   "outputs": [],
   "source": []
  }
 ],
 "metadata": {
  "kernelspec": {
   "display_name": "Python 3",
   "language": "python",
   "name": "python3"
  },
  "language_info": {
   "codemirror_mode": {
    "name": "ipython",
    "version": 3
   },
   "file_extension": ".py",
   "mimetype": "text/x-python",
   "name": "python",
   "nbconvert_exporter": "python",
   "pygments_lexer": "ipython3",
   "version": "3.6.3"
  }
 },
 "nbformat": 4,
 "nbformat_minor": 1
}
