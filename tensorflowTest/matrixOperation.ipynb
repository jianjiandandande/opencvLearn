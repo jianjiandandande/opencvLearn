{
 "cells": [
  {
   "cell_type": "code",
   "execution_count": 4,
   "metadata": {
    "collapsed": true
   },
   "outputs": [],
   "source": [
    "import tensorflow as tf"
   ]
  },
  {
   "cell_type": "code",
   "execution_count": 7,
   "metadata": {},
   "outputs": [
    {
     "name": "stdout",
     "output_type": "stream",
     "text": [
      "8.0\nend!\n"
     ]
    }
   ],
   "source": [
    "# 基本数据运算\n",
    "data1 = tf.placeholder(tf.float32)\n",
    "data2 = tf.placeholder(tf.float32)\n",
    "dataAdd = tf.add(data1, data2)\n",
    "with tf.Session() as sess:\n",
    "    print(sess.run(dataAdd,feed_dict={data1: 6, data2: 2})) \n",
    "print('end!')"
   ]
  },
  {
   "cell_type": "code",
   "execution_count": 13,
   "metadata": {},
   "outputs": [
    {
     "name": "stdout",
     "output_type": "stream",
     "text": [
      "(3, 2)\n[[1 2]\n [3 4]\n [5 6]]\n[1 2]\n2\n[1 3 5]\n"
     ]
    }
   ],
   "source": [
    "# 矩阵的定义\n",
    "data1 = tf.constant([[6, 6]])\n",
    "data2 = tf.constant([[2],\n",
    "                     [2]])\n",
    "data3 = tf.constant([[3, 3]])\n",
    "data4 = tf.constant([[1, 2],\n",
    "                     [3, 4],\n",
    "                     [5, 6]])\n",
    "print(data4.shape)# 维度\n",
    "with tf.Session() as sess:\n",
    "    print(sess.run(data4))\n",
    "    print(sess.run(data4[0]))\n",
    "    print(sess.run(data4[0, 1]))\n",
    "    print(sess.run(data4[:, 0]))"
   ]
  },
  {
   "cell_type": "code",
   "execution_count": 15,
   "metadata": {},
   "outputs": [
    {
     "name": "stdout",
     "output_type": "stream",
     "text": [
      "[[24]]\n[[9 9]]\n[array([[9, 9]]), array([[24]])]\n"
     ]
    }
   ],
   "source": [
    "# 矩阵的操作\n",
    "data1 = tf.constant([[6, 6]])\n",
    "data2 = tf.constant([[2],\n",
    "                     [2]])\n",
    "data3 = tf.constant([[3, 3]])\n",
    "data4 = tf.constant([[1, 2],\n",
    "                     [3, 4],\n",
    "                     [5, 6]])\n",
    "matMul = tf.matmul(data1, data2)\n",
    "matAdd = tf.add(data1, data3)\n",
    "with tf.Session() as sess:\n",
    "    print(sess.run(matMul)) # 1行1列\n",
    "    print(sess.run(matAdd)) # 1行2列\n",
    "    print(sess.run([matAdd, matMul])) # 1行2列"
   ]
  },
  {
   "cell_type": "code",
   "execution_count": 18,
   "metadata": {},
   "outputs": [
    {
     "name": "stdout",
     "output_type": "stream",
     "text": [
      "[[ 0.  0.  0.]\n [ 0.  0.  0.]]\n[[ 1.  1.]\n [ 1.  1.]\n [ 1.  1.]]\n[[12 12]\n [12 12]\n [12 12]]\n"
     ]
    }
   ],
   "source": [
    "# 定义一个特殊矩阵\n",
    "mat0 = tf.zeros([2, 3]) # 全0\n",
    "mat1 = tf.ones([3, 2]) # 全1\n",
    "mat2 = tf.fill([3, 2], 12) #填充矩阵\n",
    "with tf.Session() as sess:\n",
    "    print(sess.run(mat0))\n",
    "    print(sess.run(mat1))\n",
    "    print(sess.run(mat2))"
   ]
  },
  {
   "cell_type": "code",
   "execution_count": 21,
   "metadata": {},
   "outputs": [
    {
     "name": "stdout",
     "output_type": "stream",
     "text": [
      "[[0]\n [0]\n [0]]\n"
     ]
    }
   ],
   "source": [
    "mat1 = tf.constant([[2], [3], [4]])\n",
    "mat2 = tf.zeros_like(mat1)\n",
    "mat3 = tf.zeros_like(mat1)\n",
    "with tf.Session() as sess:\n",
    "    print(sess.run(mat2))"
   ]
  },
  {
   "cell_type": "code",
   "execution_count": 22,
   "metadata": {},
   "outputs": [
    {
     "name": "stdout",
     "output_type": "stream",
     "text": [
      "[ 0.          0.2         0.40000001  0.60000002  0.80000001  1.\n  1.20000005  1.39999998  1.60000002  1.80000007  2.        ]\n"
     ]
    }
   ],
   "source": [
    "# 对某两个值之间的距离进行切分\n",
    "mat = tf.linspace(0.0, 2.0, 11)\n",
    "with tf.Session() as sess:\n",
    "    print(sess.run(mat))"
   ]
  },
  {
   "cell_type": "code",
   "execution_count": 24,
   "metadata": {},
   "outputs": [
    {
     "name": "stdout",
     "output_type": "stream",
     "text": [
      "[[-0.19722772  1.53765297  1.0741508 ]\n [-0.0737803   0.58286488  0.75293767]]\n"
     ]
    }
   ],
   "source": [
    "# 随机数矩阵\n",
    "mat = tf.random_uniform([2, 3], -1, 2)#产生一个从-1到2之间的随机数的 2*3矩阵\n",
    "with tf.Session() as sess:\n",
    "    print(sess.run(mat))"
   ]
  },
  {
   "cell_type": "code",
   "execution_count": null,
   "metadata": {},
   "outputs": [],
   "source": []
  }
 ],
 "metadata": {
  "kernelspec": {
   "display_name": "Python 2",
   "language": "python",
   "name": "python2"
  },
  "language_info": {
   "codemirror_mode": {
    "name": "ipython",
    "version": 2
   },
   "file_extension": ".py",
   "mimetype": "text/x-python",
   "name": "python",
   "nbconvert_exporter": "python",
   "pygments_lexer": "ipython2",
   "version": "2.7.6"
  }
 },
 "nbformat": 4,
 "nbformat_minor": 0
}
